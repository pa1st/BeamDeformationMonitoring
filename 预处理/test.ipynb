{
 "cells": [
  {
   "cell_type": "code",
   "id": "initial_id",
   "metadata": {
    "collapsed": true,
    "ExecuteTime": {
     "end_time": "2025-01-14T09:06:52.358932Z",
     "start_time": "2025-01-14T09:06:52.314942Z"
    }
   },
   "source": [
    "import open3d as o3d\n",
    "import numpy as np"
   ],
   "outputs": [],
   "execution_count": 5
  },
  {
   "metadata": {
    "ExecuteTime": {
     "end_time": "2025-01-14T09:06:58.737569Z",
     "start_time": "2025-01-14T09:06:58.543057Z"
    }
   },
   "cell_type": "code",
   "source": "pcd=o3d.io.read_point_cloud(\"test1.pcd\")",
   "id": "35ecd00b2e4c484e",
   "outputs": [],
   "execution_count": 6
  },
  {
   "metadata": {
    "ExecuteTime": {
     "end_time": "2025-01-14T09:07:14.039711Z",
     "start_time": "2025-01-14T09:07:00.724628Z"
    }
   },
   "cell_type": "code",
   "source": "o3d.visualization.draw_geometries([pcd])",
   "id": "61b1661357731083",
   "outputs": [],
   "execution_count": 7
  },
  {
   "metadata": {
    "ExecuteTime": {
     "end_time": "2025-01-14T03:05:50.027329Z",
     "start_time": "2025-01-14T03:05:50.000851Z"
    }
   },
   "cell_type": "code",
   "source": "",
   "id": "fcee498e7925e9a6",
   "outputs": [],
   "execution_count": null
  }
 ],
 "metadata": {
  "kernelspec": {
   "display_name": "Python 3",
   "language": "python",
   "name": "python3"
  },
  "language_info": {
   "codemirror_mode": {
    "name": "ipython",
    "version": 2
   },
   "file_extension": ".py",
   "mimetype": "text/x-python",
   "name": "python",
   "nbconvert_exporter": "python",
   "pygments_lexer": "ipython2",
   "version": "2.7.6"
  }
 },
 "nbformat": 4,
 "nbformat_minor": 5
}
