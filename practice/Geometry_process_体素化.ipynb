{
 "cells": [
  {
   "cell_type": "code",
   "id": "initial_id",
   "metadata": {
    "collapsed": true,
    "ExecuteTime": {
     "end_time": "2025-01-11T03:05:41.506690Z",
     "start_time": "2025-01-11T03:05:40.505416Z"
    }
   },
   "source": [
    "import open3d as o3d\n",
    "import numpy as np"
   ],
   "outputs": [
    {
     "name": "stdout",
     "output_type": "stream",
     "text": [
      "Jupyter environment detected. Enabling Open3D WebVisualizer.\n",
      "[Open3D INFO] WebRTC GUI backend enabled.\n",
      "[Open3D INFO] WebRTCWindowSystem: HTTP handshake server disabled.\n"
     ]
    }
   ],
   "execution_count": 2
  },
  {
   "metadata": {
    "ExecuteTime": {
     "end_time": "2025-01-11T03:05:49.097764Z",
     "start_time": "2025-01-11T03:05:42.321733Z"
    }
   },
   "cell_type": "code",
   "source": [
    "mesh = o3d.io.read_triangle_mesh(\"BunnyMesh.ply\")\n",
    "mesh.scale(1 / np.max(mesh.get_max_bound() - mesh.get_min_bound()), center=mesh.get_center())\n",
    "o3d.visualization.draw_geometries([mesh])"
   ],
   "id": "f256aa519e13dda2",
   "outputs": [],
   "execution_count": 3
  },
  {
   "metadata": {
    "ExecuteTime": {
     "end_time": "2025-01-11T03:05:55.424133Z",
     "start_time": "2025-01-11T03:05:49.124341Z"
    }
   },
   "cell_type": "code",
   "source": [
    "# 体素化\n",
    "print('voxelization')\n",
    "voxel_grid = o3d.geometry.VoxelGrid.create_from_triangle_mesh(mesh, voxel_size=0.01)\n",
    "o3d.visualization.draw_geometries([voxel_grid])"
   ],
   "id": "58bfd93bbd94fab4",
   "outputs": [
    {
     "name": "stdout",
     "output_type": "stream",
     "text": [
      "voxelization\n"
     ]
    }
   ],
   "execution_count": 4
  },
  {
   "metadata": {
    "ExecuteTime": {
     "end_time": "2025-01-11T03:09:57.952290Z",
     "start_time": "2025-01-11T03:09:39.148578Z"
    }
   },
   "cell_type": "code",
   "source": [
    "# 体素化（点云）\n",
    "pcd = o3d.io.read_triangle_mesh(\"ArmadilloMesh.ply\")\n",
    "N = 2000\n",
    "pcd = pcd.sample_points_poisson_disk(number_of_points=N)\n",
    "pcd.scale(1 / np.max(pcd.get_max_bound() - pcd.get_min_bound()), center=pcd.get_center())\n",
    "pcd.colors = o3d.utility.Vector3dVector(np.random.uniform(0, 1, size=(N, 3)))\n",
    "o3d.visualization.draw_geometries([pcd])\n",
    "# 如果点云中至少有一个点在体素内，该体素就被占用。体素的颜色是该体素内所有点的平均值。参数voxel_size定义了体素网格的分辨率。\n",
    "print('voxelization')\n",
    "voxel_grid = o3d.geometry.VoxelGrid.create_from_point_cloud(pcd, voxel_size=0.01)\n",
    "o3d.visualization.draw_geometries([voxel_grid])"
   ],
   "id": "79935326473e29d8",
   "outputs": [
    {
     "name": "stdout",
     "output_type": "stream",
     "text": [
      "voxelization\n"
     ]
    }
   ],
   "execution_count": 7
  },
  {
   "metadata": {},
   "cell_type": "code",
   "outputs": [],
   "execution_count": null,
   "source": "",
   "id": "36b580df5074f2c8"
  }
 ],
 "metadata": {
  "kernelspec": {
   "display_name": "Python 3",
   "language": "python",
   "name": "python3"
  },
  "language_info": {
   "codemirror_mode": {
    "name": "ipython",
    "version": 2
   },
   "file_extension": ".py",
   "mimetype": "text/x-python",
   "name": "python",
   "nbconvert_exporter": "python",
   "pygments_lexer": "ipython2",
   "version": "2.7.6"
  }
 },
 "nbformat": 4,
 "nbformat_minor": 5
}
