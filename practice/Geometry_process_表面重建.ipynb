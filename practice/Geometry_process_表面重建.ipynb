{
 "cells": [
  {
   "cell_type": "code",
   "id": "initial_id",
   "metadata": {
    "collapsed": true,
    "ExecuteTime": {
     "end_time": "2025-01-11T03:38:41.207097Z",
     "start_time": "2025-01-11T03:38:40.369487Z"
    }
   },
   "source": [
    "import open3d as o3d\n",
    "import numpy as np"
   ],
   "outputs": [
    {
     "name": "stdout",
     "output_type": "stream",
     "text": [
      "Jupyter environment detected. Enabling Open3D WebVisualizer.\n",
      "[Open3D INFO] WebRTC GUI backend enabled.\n",
      "[Open3D INFO] WebRTCWindowSystem: HTTP handshake server disabled.\n"
     ]
    }
   ],
   "execution_count": 1
  },
  {
   "metadata": {
    "ExecuteTime": {
     "end_time": "2025-01-11T03:42:28.534915Z",
     "start_time": "2025-01-11T03:41:55.624027Z"
    }
   },
   "cell_type": "code",
   "source": [
    "pcd=o3d.io.read_point_cloud(\"fragment.ply\")\n",
    "o3d.visualization.draw_geometries([pcd])\n",
    "print('run Poisson surface reconstruction')\n",
    "with o3d.utility.VerbosityContextManager(o3d.utility.VerbosityLevel.Debug) as cm:\n",
    "    mesh, densities = o3d.geometry.TriangleMesh.create_from_point_cloud_poisson(pcd, depth=9)\n",
    "print(mesh)\n",
    "o3d.visualization.draw_geometries([mesh],\n",
    "                                  zoom=0.664,\n",
    "                                  front=[-0.4761, -0.4698, -0.7434],\n",
    "                                  lookat=[1.8900, 3.2596, 0.9284],\n",
    "                                  up=[0.2304, -0.8825, 0.4101])"
   ],
   "id": "5b422c3563e1013",
   "outputs": [
    {
     "name": "stdout",
     "output_type": "stream",
     "text": [
      "run Poisson surface reconstruction\n",
      "[Open3D DEBUG] Input Points / Samples: 196133 / 146866\n",
      "[Open3D DEBUG] #   Got kernel density: 0.0570002 (s), 344.461 (MB) / 344.461 (MB) / 344 (MB)\n",
      "[Open3D DEBUG] #     Got normal field: 0.374 (s), 390.414 (MB) / 390.414 (MB) / 390 (MB)\n",
      "[Open3D DEBUG] Point weight / Estimated Area: 5.231316e-06 / 1.026034e+00\n",
      "[Open3D DEBUG] #       Finalized tree: 0.263 (s), 437.34 (MB) / 437.34 (MB) / 449 (MB)\n",
      "[Open3D DEBUG] #  Set FEM constraints: 0.284 (s), 415.359 (MB) / 437.34 (MB) / 449 (MB)\n",
      "[Open3D DEBUG] #Set point constraints: 0.104000 (s), 401.457 (MB) / 437.34 (MB) / 449 (MB)\n",
      "[Open3D DEBUG] Leaf Nodes / Active Nodes / Ghost Nodes: 1296954 / 1481528 / 705\n",
      "[Open3D DEBUG] Memory Usage: 401.457 MB\n",
      "[Open3D DEBUG] # Linear system solved: 0.88 (s), 435.609 (MB) / 437.34 (MB) / 449 (MB)\n",
      "[Open3D DEBUG] Got average: 0.0149999 (s), 395.391 (MB) / 437.34 (MB) / 449 (MB)\n",
      "[Open3D DEBUG] Iso-Value: 5.025805e-01 = 9.857262e+04 / 1.961330e+05\n",
      "[Open3D DEBUG] #          Total Solve:       3.5 (s),     499.5 (MB)\n",
      "TriangleMesh with 245252 points and 490125 triangles.\n"
     ]
    }
   ],
   "execution_count": 6
  },
  {
   "metadata": {},
   "cell_type": "code",
   "outputs": [],
   "execution_count": null,
   "source": "",
   "id": "cdad01a3a26b7285"
  }
 ],
 "metadata": {
  "kernelspec": {
   "display_name": "Python 3",
   "language": "python",
   "name": "python3"
  },
  "language_info": {
   "codemirror_mode": {
    "name": "ipython",
    "version": 2
   },
   "file_extension": ".py",
   "mimetype": "text/x-python",
   "name": "python",
   "nbconvert_exporter": "python",
   "pygments_lexer": "ipython2",
   "version": "2.7.6"
  }
 },
 "nbformat": 4,
 "nbformat_minor": 5
}
