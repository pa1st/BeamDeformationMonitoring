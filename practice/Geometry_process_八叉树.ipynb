{
 "cells": [
  {
   "cell_type": "code",
   "id": "initial_id",
   "metadata": {
    "collapsed": true,
    "ExecuteTime": {
     "end_time": "2025-01-11T03:14:02.503443Z",
     "start_time": "2025-01-11T03:14:01.680490Z"
    }
   },
   "source": [
    "import open3d as o3d\n",
    "import numpy as np"
   ],
   "outputs": [
    {
     "name": "stdout",
     "output_type": "stream",
     "text": [
      "Jupyter environment detected. Enabling Open3D WebVisualizer.\n",
      "[Open3D INFO] WebRTC GUI backend enabled.\n",
      "[Open3D INFO] WebRTCWindowSystem: HTTP handshake server disabled.\n"
     ]
    }
   ],
   "execution_count": 1
  },
  {
   "metadata": {
    "ExecuteTime": {
     "end_time": "2025-01-11T03:23:25.451222Z",
     "start_time": "2025-01-11T03:23:10.058275Z"
    }
   },
   "cell_type": "code",
   "source": [
    "# 从点云数据构造八叉树\n",
    "mesh=o3d.io.read_triangle_mesh(\"ArmadilloMesh.ply\")\n",
    "pcd=mesh.sample_points_poisson_disk(number_of_points=2000)\n",
    "pcd.scale(1/np.max(pcd.get_max_bound()-pcd.get_min_bound()),center=pcd.get_center())\n",
    "pcd.colors = o3d.utility.Vector3dVector(np.random.rand(2000,3))\n",
    "o3d.visualization.draw_geometries([pcd])\n",
    "\n",
    "print(\"Octree division\")\n",
    "octtree=o3d.geometry.Octree(max_depth=6)\n",
    "octtree.convert_from_point_cloud(pcd, size_expand=0.01)\n",
    "o3d.visualization.draw_geometries([octtree])"
   ],
   "id": "5c259529752f8c91",
   "outputs": [
    {
     "name": "stdout",
     "output_type": "stream",
     "text": [
      "Octree division\n"
     ]
    }
   ],
   "execution_count": 6
  },
  {
   "metadata": {
    "ExecuteTime": {
     "end_time": "2025-01-11T03:31:09.254602Z",
     "start_time": "2025-01-11T03:30:58.883353Z"
    }
   },
   "cell_type": "code",
   "source": [
    "# 从体素网格创建\n",
    "print('voxelization')\n",
    "voxel_grid = o3d.geometry.VoxelGrid.create_from_point_cloud(pcd, voxel_size=0.05)\n",
    "o3d.visualization.draw_geometries([voxel_grid])\n",
    "\n",
    "print('octree division')\n",
    "octree = o3d.geometry.Octree(max_depth=5)\n",
    "octree.create_from_voxel_grid(voxel_grid)\n",
    "o3d.visualization.draw_geometries([octree])"
   ],
   "id": "cfc8dd972b2603fb",
   "outputs": [
    {
     "name": "stdout",
     "output_type": "stream",
     "text": [
      "voxelization\n",
      "octree division\n"
     ]
    }
   ],
   "execution_count": 7
  },
  {
   "metadata": {},
   "cell_type": "code",
   "outputs": [],
   "execution_count": null,
   "source": "",
   "id": "435dfb4378bdfc26"
  }
 ],
 "metadata": {
  "kernelspec": {
   "display_name": "Python 3",
   "language": "python",
   "name": "python3"
  },
  "language_info": {
   "codemirror_mode": {
    "name": "ipython",
    "version": 2
   },
   "file_extension": ".py",
   "mimetype": "text/x-python",
   "name": "python",
   "nbconvert_exporter": "python",
   "pygments_lexer": "ipython2",
   "version": "2.7.6"
  }
 },
 "nbformat": 4,
 "nbformat_minor": 5
}
