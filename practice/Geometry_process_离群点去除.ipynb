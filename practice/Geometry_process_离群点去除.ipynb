{
 "cells": [
  {
   "cell_type": "code",
   "id": "initial_id",
   "metadata": {
    "collapsed": true,
    "ExecuteTime": {
     "end_time": "2025-01-11T02:31:03.242068Z",
     "start_time": "2025-01-11T02:31:02.443227Z"
    }
   },
   "source": [
    "import open3d as o3d\n",
    "import numpy as np"
   ],
   "outputs": [
    {
     "name": "stdout",
     "output_type": "stream",
     "text": [
      "Jupyter environment detected. Enabling Open3D WebVisualizer.\n",
      "[Open3D INFO] WebRTC GUI backend enabled.\n",
      "[Open3D INFO] WebRTCWindowSystem: HTTP handshake server disabled.\n"
     ]
    }
   ],
   "execution_count": 1
  },
  {
   "metadata": {
    "ExecuteTime": {
     "end_time": "2025-01-11T02:32:59.336066Z",
     "start_time": "2025-01-11T02:32:59.251355Z"
    }
   },
   "cell_type": "code",
   "source": [
    "pcd = o3d.io.read_point_cloud(\"fragment.ply\")\n",
    "# print(pcd)\n",
    "# o3d.io.write_point_cloud(\"copy_of_fragment.pcd\", pcd)"
   ],
   "id": "6245c1992ceb311",
   "outputs": [
    {
     "data": {
      "text/plain": [
       "True"
      ]
     },
     "execution_count": 4,
     "metadata": {},
     "output_type": "execute_result"
    }
   ],
   "execution_count": 4
  },
  {
   "metadata": {
    "ExecuteTime": {
     "end_time": "2025-01-11T02:38:06.466067Z",
     "start_time": "2025-01-11T02:37:50.287104Z"
    }
   },
   "cell_type": "code",
   "source": [
    "# 离群点去除\n",
    "# 使用voxel_downsample加载点云并进行降样\n",
    "voxel_down_pcd = pcd.voxel_down_sample(voxel_size=0.02)\n",
    "o3d.visualization.draw_geometries([voxel_down_pcd],\n",
    "                                  zoom=0.3412,\n",
    "                                  front=[0.4257, -0.2125, -0.8795],\n",
    "                                  lookat=[2.6172, 2.0475, 1.532],\n",
    "                                  up=[-0.0694, -0.9768, 0.2024])\n",
    "\n",
    "# 使用uniform_down_sample对点云进行降样\n",
    "uni_down_pcd = pcd.uniform_down_sample(every_k_points=5)\n",
    "o3d.visualization.draw_geometries([uni_down_pcd],\n",
    "                                  zoom=0.3412,\n",
    "                                  front=[0.4257, -0.2125, -0.8795],\n",
    "                                  lookat=[2.6172, 2.0475, 1.532],\n",
    "                                  up=[-0.0694, -0.9768, 0.2024])"
   ],
   "id": "c5572199acaf399d",
   "outputs": [],
   "execution_count": 6
  },
  {
   "metadata": {
    "ExecuteTime": {
     "end_time": "2025-01-11T02:53:12.610637Z",
     "start_time": "2025-01-11T02:53:12.595210Z"
    }
   },
   "cell_type": "code",
   "source": [
    "# 接受一个二进制掩码，只输出选定的点\n",
    "def display_inlier_outlier(cloud, ind):\n",
    "    inlier_cloud = cloud.select_by_index(ind)\n",
    "    outlier_cloud = cloud.select_by_index(ind, invert=True)\n",
    "\n",
    "    print(\"Showing outliers (red) and inliers (gray): \")\n",
    "    outlier_cloud.paint_uniform_color([1, 0, 0])\n",
    "    inlier_cloud.paint_uniform_color([0.8, 0.8, 0.8])\n",
    "    o3d.visualization.draw_geometries([inlier_cloud, outlier_cloud],\n",
    "                                      zoom=0.3412,\n",
    "                                      front=[0.4257, -0.2125, -0.8795],\n",
    "                                      lookat=[2.6172, 2.0475, 1.532],\n",
    "                                      up=[-0.0694, -0.9768, 0.2024])"
   ],
   "id": "e03d86b9945f1cec",
   "outputs": [],
   "execution_count": 7
  },
  {
   "metadata": {
    "ExecuteTime": {
     "end_time": "2025-01-11T02:55:50.264589Z",
     "start_time": "2025-01-11T02:54:47.072301Z"
    }
   },
   "cell_type": "code",
   "source": [
    "# 使用StatisticalOutlierRemoval滤波器，删除那些与点云的平均数相比离其邻居较远的点\n",
    "\n",
    "# nb_neighbors，用于指定在计算一个给定点的平均距离时考虑多少个邻居。\n",
    "# std_ratio，允许根据整个点云的平均距离的标准偏差来设置阈值水平。这个数字越小，过滤器就越积极。\n",
    "print(\"Statistical oulier removal\")\n",
    "cl, ind = voxel_down_pcd.remove_statistical_outlier(nb_neighbors=20, std_ratio=2.0)\n",
    "display_inlier_outlier(voxel_down_pcd, ind)"
   ],
   "id": "da57808f25730436",
   "outputs": [
    {
     "name": "stdout",
     "output_type": "stream",
     "text": [
      "Statistical oulier removal\n",
      "Showing outliers (red) and inliers (gray): \n"
     ]
    }
   ],
   "execution_count": 8
  },
  {
   "metadata": {
    "ExecuteTime": {
     "end_time": "2025-01-11T02:57:47.420395Z",
     "start_time": "2025-01-11T02:57:18.228461Z"
    }
   },
   "cell_type": "code",
   "source": [
    "# radius_outlier_removal删除那些在其周围给定范围内有少数邻居的点。\n",
    "\n",
    "# nb_points，选择球体应该包含的最小数量的点。\n",
    "# radius，定义了用于计算邻域的球体半径。\n",
    "print(\"Radius oulier removal\")\n",
    "cl, ind = voxel_down_pcd.remove_radius_outlier(nb_points=16, radius=0.05)\n",
    "display_inlier_outlier(voxel_down_pcd, ind)"
   ],
   "id": "84f8c97d79457e04",
   "outputs": [
    {
     "name": "stdout",
     "output_type": "stream",
     "text": [
      "Radius oulier removal\n",
      "Showing outliers (red) and inliers (gray): \n"
     ]
    }
   ],
   "execution_count": 9
  },
  {
   "metadata": {},
   "cell_type": "code",
   "outputs": [],
   "execution_count": null,
   "source": "",
   "id": "a3394cc1e1c7fee2"
  }
 ],
 "metadata": {
  "kernelspec": {
   "display_name": "Python 3",
   "language": "python",
   "name": "python3"
  },
  "language_info": {
   "codemirror_mode": {
    "name": "ipython",
    "version": 2
   },
   "file_extension": ".py",
   "mimetype": "text/x-python",
   "name": "python",
   "nbconvert_exporter": "python",
   "pygments_lexer": "ipython2",
   "version": "2.7.6"
  }
 },
 "nbformat": 4,
 "nbformat_minor": 5
}
