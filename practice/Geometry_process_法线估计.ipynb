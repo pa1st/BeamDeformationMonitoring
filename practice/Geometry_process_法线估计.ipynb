{
 "cells": [
  {
   "cell_type": "code",
   "id": "initial_id",
   "metadata": {
    "collapsed": true,
    "ExecuteTime": {
     "end_time": "2025-01-11T03:45:50.905256Z",
     "start_time": "2025-01-11T03:45:50.067783Z"
    }
   },
   "source": [
    "import open3d as o3d\n",
    "import numpy as np"
   ],
   "outputs": [
    {
     "name": "stdout",
     "output_type": "stream",
     "text": [
      "Jupyter environment detected. Enabling Open3D WebVisualizer.\n",
      "[Open3D INFO] WebRTC GUI backend enabled.\n",
      "[Open3D INFO] WebRTCWindowSystem: HTTP handshake server disabled.\n"
     ]
    }
   ],
   "execution_count": 1
  },
  {
   "metadata": {
    "ExecuteTime": {
     "end_time": "2025-01-11T03:49:05.785814Z",
     "start_time": "2025-01-11T03:48:37.014908Z"
    }
   },
   "cell_type": "code",
   "source": [
    "pcd=o3d.io.read_point_cloud(\"BunnyMesh.ply\")\n",
    "# o3d.visualization.draw_geometries([pcd])\n",
    "# pcd=pcd.sample_points_poisson_disk(number_of_points=5000)\n",
    "pcd.normals = o3d.utility.Vector3dVector(np.zeros((1, 3)))\n",
    "pcd.estimate_normals()\n",
    "o3d.visualization.draw_geometries([pcd],point_show_normal=True)"
   ],
   "id": "f38a5ed71b419af5",
   "outputs": [],
   "execution_count": 6
  },
  {
   "metadata": {},
   "cell_type": "code",
   "outputs": [],
   "execution_count": null,
   "source": "",
   "id": "274dbe145cc1f27b"
  }
 ],
 "metadata": {
  "kernelspec": {
   "display_name": "Python 3",
   "language": "python",
   "name": "python3"
  },
  "language_info": {
   "codemirror_mode": {
    "name": "ipython",
    "version": 2
   },
   "file_extension": ".py",
   "mimetype": "text/x-python",
   "name": "python",
   "nbconvert_exporter": "python",
   "pygments_lexer": "ipython2",
   "version": "2.7.6"
  }
 },
 "nbformat": 4,
 "nbformat_minor": 5
}
