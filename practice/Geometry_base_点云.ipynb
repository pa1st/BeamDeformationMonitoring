{
 "cells": [
  {
   "cell_type": "code",
   "id": "initial_id",
   "metadata": {
    "collapsed": true,
    "ExecuteTime": {
     "end_time": "2025-01-11T00:30:32.809084Z",
     "start_time": "2025-01-11T00:30:31.544506Z"
    }
   },
   "source": [
    "import open3d as o3d\n",
    "import numpy as np"
   ],
   "outputs": [
    {
     "name": "stdout",
     "output_type": "stream",
     "text": [
      "Jupyter environment detected. Enabling Open3D WebVisualizer.\n",
      "[Open3D INFO] WebRTC GUI backend enabled.\n",
      "[Open3D INFO] WebRTCWindowSystem: HTTP handshake server disabled.\n"
     ]
    }
   ],
   "execution_count": 2
  },
  {
   "metadata": {
    "ExecuteTime": {
     "end_time": "2025-01-11T00:30:35.206984Z",
     "start_time": "2025-01-11T00:30:32.809084Z"
    }
   },
   "cell_type": "code",
   "source": [
    "print(\"Load a ply point cloud, print it, and render it\")\n",
    "# 加载数据（按H查看命令）\n",
    "pcd = o3d.io.read_point_cloud(\"fragment.ply\")\n",
    "print(pcd)\n",
    "print(np.asarray(pcd.points))\n",
    "# 可视化\n",
    "o3d.visualization.draw_geometries([pcd],\n",
    "                                  zoom=0.3412,\n",
    "                                  front=[0.4257, -0.2125, -0.8795],\n",
    "                                  lookat=[2.6172, 2.0475, 1.532],\n",
    "                                  up=[-0.0694, -0.9768, 0.2024])"
   ],
   "id": "7d97981ddb507876",
   "outputs": [
    {
     "name": "stdout",
     "output_type": "stream",
     "text": [
      "Load a ply point cloud, print it, and render it\n",
      "PointCloud with 196133 points.\n",
      "[[0.65234375 0.84686458 2.37890625]\n",
      " [0.65234375 0.83984375 2.38430572]\n",
      " [0.66737998 0.83984375 2.37890625]\n",
      " ...\n",
      " [2.00839925 2.39453125 1.88671875]\n",
      " [2.00390625 2.39488506 1.88671875]\n",
      " [2.00390625 2.39453125 1.88793314]]\n"
     ]
    }
   ],
   "execution_count": 3
  },
  {
   "metadata": {
    "ExecuteTime": {
     "end_time": "2025-01-11T00:30:36.503515Z",
     "start_time": "2025-01-11T00:30:35.305105Z"
    }
   },
   "cell_type": "code",
   "source": [
    "# 体素降采样\n",
    "print(\"Downsample the point cloud with a voxel of 0.05.\")\n",
    "downpcd = pcd.voxel_down_sample(voxel_size=0.05)\n",
    "o3d.visualization.draw_geometries([downpcd],\n",
    "                                  zoom=0.3412,\n",
    "                                  front=[0.4257, -0.2125, -0.8795],\n",
    "                                  lookat=[2.6172, 2.0475, 1.532],\n",
    "                                  up=[-0.0694, -0.9768, 0.2024])"
   ],
   "id": "527e25aadab587cf",
   "outputs": [
    {
     "name": "stdout",
     "output_type": "stream",
     "text": [
      "Downsample the point cloud with a voxel of 0.05.\n"
     ]
    }
   ],
   "execution_count": 4
  },
  {
   "metadata": {
    "ExecuteTime": {
     "end_time": "2025-01-11T00:30:37.583735Z",
     "start_time": "2025-01-11T00:30:36.520768Z"
    }
   },
   "cell_type": "code",
   "source": [
    "# 顶点法向量估计\n",
    "print(\"Recompute the normal of the downsampled point cloud\")\n",
    "downpcd.estimate_normals(search_param=o3d.geometry.KDTreeSearchParamHybrid(radius=0.1, max_nn=30))\n",
    "o3d.visualization.draw_geometries([downpcd],\n",
    "                                  zoom=0.3412,\n",
    "                                  front=[0.4257, -0.2125, -0.8795],\n",
    "                                  lookat=[2.6172, 2.0475, 1.532],\n",
    "                                  up=[-0.0694, -0.9768, 0.2024],\n",
    "                                  point_show_normal=True)"
   ],
   "id": "d67edc6748343fdf",
   "outputs": [
    {
     "name": "stdout",
     "output_type": "stream",
     "text": [
      "Recompute the normal of the downsampled point cloud\n"
     ]
    }
   ],
   "execution_count": 5
  },
  {
   "metadata": {
    "ExecuteTime": {
     "end_time": "2025-01-11T00:30:38.749800Z",
     "start_time": "2025-01-11T00:30:37.583735Z"
    }
   },
   "cell_type": "code",
   "source": [
    "# 裁剪点云\n",
    "print(\"Load a polygon volume and use it to crop the original point cloud\")\n",
    "pcd = o3d.io.read_point_cloud(\"fragment.ply\")\n",
    "# 读取一个指定多边形选择区域的json文件\n",
    "vol = o3d.visualization.read_selection_polygon_volume(\"cropped.json\")\n",
    "# 过滤掉点。只留下椅子。\n",
    "chair = vol.crop_point_cloud(pcd)\n",
    "o3d.visualization.draw_geometries([chair],\n",
    "                                  zoom=0.7,\n",
    "                                  front=[0.5439, -0.2333, -0.8060],\n",
    "                                  lookat=[2.4615, 2.1331, 1.338],\n",
    "                                  up=[-0.1781, -0.9708, 0.1608])"
   ],
   "id": "84f847956c07d9cd",
   "outputs": [
    {
     "name": "stdout",
     "output_type": "stream",
     "text": [
      "Load a polygon volume and use it to crop the original point cloud\n"
     ]
    }
   ],
   "execution_count": 6
  },
  {
   "metadata": {
    "ExecuteTime": {
     "end_time": "2025-01-11T00:30:39.893753Z",
     "start_time": "2025-01-11T00:30:38.765431Z"
    }
   },
   "cell_type": "code",
   "source": [
    "# 上色\n",
    "print(\"Paint chair\")\n",
    "# 将所有的点涂成一个统一的颜色。颜色是在RGB空间，[0, 1]范围内\n",
    "chair.paint_uniform_color([1, 0.9, 0])\n",
    "o3d.visualization.draw_geometries([chair],\n",
    "                                  zoom=0.7,\n",
    "                                  front=[0.5439, -0.2333, -0.8060],\n",
    "                                  lookat=[2.4615, 2.1331, 1.338],\n",
    "                                  up=[-0.1781, -0.9708, 0.1608])"
   ],
   "id": "a1ff9610cb07c13f",
   "outputs": [
    {
     "name": "stdout",
     "output_type": "stream",
     "text": [
      "Paint chair\n"
     ]
    }
   ],
   "execution_count": 7
  },
  {
   "metadata": {
    "ExecuteTime": {
     "end_time": "2025-01-11T00:30:41.270979Z",
     "start_time": "2025-01-11T00:30:39.938599Z"
    }
   },
   "cell_type": "code",
   "source": [
    "# 点云距离\n",
    "# 计算从源点云到目标点云的距离。也就是说，它为源点云中的每个点计算与目标点云中最近的点的距离。\n",
    "# Load data\n",
    "pcd = o3d.io.read_point_cloud(\"fragment.ply\")\n",
    "vol = o3d.visualization.read_selection_polygon_volume(\"cropped.json\")\n",
    "chair = vol.crop_point_cloud(pcd)\n",
    "\n",
    "dists = pcd.compute_point_cloud_distance(chair)\n",
    "dists = np.asarray(dists)\n",
    "ind = np.where(dists > 0.01)[0]\n",
    "pcd_without_chair = pcd.select_by_index(ind)\n",
    "o3d.visualization.draw_geometries([pcd_without_chair],\n",
    "                                  zoom=0.3412,\n",
    "                                  front=[0.4257, -0.2125, -0.8795],\n",
    "                                  lookat=[2.6172, 2.0475, 1.532],\n",
    "                                  up=[-0.0694, -0.9768, 0.2024])"
   ],
   "id": "39273005f5dc30e0",
   "outputs": [],
   "execution_count": 8
  },
  {
   "metadata": {
    "ExecuteTime": {
     "end_time": "2025-01-11T00:30:43.813497Z",
     "start_time": "2025-01-11T00:30:41.270979Z"
    }
   },
   "cell_type": "code",
   "source": [
    "# 包围体积\n",
    "# 无方向\n",
    "aabb = chair.get_axis_aligned_bounding_box()\n",
    "aabb.color = (1, 0, 0)\n",
    "# 有方向\n",
    "obb = chair.get_oriented_bounding_box()\n",
    "obb.color = (0, 1, 0)\n",
    "o3d.visualization.draw_geometries([chair, aabb, obb],\n",
    "                                  zoom=0.7,\n",
    "                                  front=[0.5439, -0.2333, -0.8060],\n",
    "                                  lookat=[2.4615, 2.1331, 1.338],\n",
    "                                  up=[-0.1781, -0.9708, 0.1608])"
   ],
   "id": "2ab6f2d37f141d0e",
   "outputs": [],
   "execution_count": 9
  },
  {
   "metadata": {
    "ExecuteTime": {
     "end_time": "2025-01-11T00:31:33.086049Z",
     "start_time": "2025-01-11T00:30:43.832680Z"
    }
   },
   "cell_type": "code",
   "source": [
    "# 凸面体 凸面体是包含所有点的最小的凸面集\n",
    "mesh = o3d.io.read_triangle_mesh(\"BunnyMesh.ply\")\n",
    "mesh.compute_vertex_normals()\n",
    "\n",
    "pcl = mesh.sample_points_poisson_disk(number_of_points=2000)\n",
    "hull, _ = pcl.compute_convex_hull()\n",
    "hull_ls = o3d.geometry.LineSet.create_from_triangle_mesh(hull)\n",
    "hull_ls.paint_uniform_color([1, 0, 0])\n",
    "o3d.visualization.draw_geometries([pcl, hull_ls])"
   ],
   "id": "de1fe7d359cfe64c",
   "outputs": [],
   "execution_count": 10
  },
  {
   "metadata": {
    "ExecuteTime": {
     "end_time": "2025-01-11T00:50:48.722058Z",
     "start_time": "2025-01-11T00:50:30.175089Z"
    }
   },
   "cell_type": "code",
   "source": [
    "# DBSCAN聚类\n",
    "import matplotlib.pyplot as plt\n",
    "\n",
    "pcd = o3d.io.read_point_cloud(\"fragment.ply\")\n",
    "# 设置 Open3D 的日志输出级\n",
    "with o3d.utility.VerbosityContextManager(o3d.utility.VerbosityLevel.Debug) as cm:\n",
    "    # eps定义了集群中与邻居的距离，min_points定义了形成一个集群所需的最小点数。该函数返回标签，其中标签-1表示噪声。\n",
    "    # 返回每个点的簇标签\n",
    "    labels = np.array(pcd.cluster_dbscan(eps=0.02, min_points=10, print_progress=True))\n",
    "max_label = labels.max()\n",
    "print(f\"point cloud has {max_label + 1} clusters\")\n",
    "colors = plt.get_cmap(\"tab20\")(labels / (max_label if max_label > 0 else 1))\n",
    "colors[labels < 0] = 0\n",
    "pcd.colors = o3d.utility.Vector3dVector(colors[:, :3])\n",
    "o3d.visualization.draw_geometries([pcd],\n",
    "                                  zoom=0.455,\n",
    "                                  front=[-0.4999, -0.1659, -0.8499],\n",
    "                                  lookat=[2.1813, 2.0619, 2.0999],\n",
    "                                  up=[0.1204, -0.9852, 0.1215])"
   ],
   "id": "92a7cd5f96a96135",
   "outputs": [
    {
     "name": "stdout",
     "output_type": "stream",
     "text": [
      "[Open3D DEBUG] Precompute neighbors.\n",
      "[Open3D DEBUG] Done Precompute neighbors.\n",
      "[Open3D DEBUG] Compute Clusters\n",
      "[Open3D DEBUG] Done Compute Clusters: 10\n",
      "point cloud has 10 clusters\n"
     ]
    }
   ],
   "execution_count": 12
  },
  {
   "metadata": {
    "ExecuteTime": {
     "end_time": "2025-01-11T01:15:30.270452Z",
     "start_time": "2025-01-11T01:15:16.881156Z"
    }
   },
   "cell_type": "code",
   "source": [
    "pdc=o3d.io.read_triangle_mesh(\"fragment.ply\")\n",
    "# distance_threshold定义了一个点与一个估计的平面的最大距离，以便被认为是一个离群点；\n",
    "# ransac_n定义了为估计一个平面而随机采样的点的数量；\n",
    "# num_iterations定义了一个随机平面被采样和验证的频率。\n",
    "plane_model,inliers=pcd.segment_plane(distance_threshold=0.01,ransac_n=3,num_iterations=1000)\n",
    "[a,b,c,d]=plane_model\n",
    "print(f\"Plane equation: {a:.2f}x + {b:.2f}y + {c:.2f}z + {d:.2f} = 0\")\n",
    "inlier_cloud=pcd.select_by_index(inliers)\n",
    "inlier_cloud.paint_uniform_color([1.0,0,0])\n",
    "outlier_cloud=pcd.select_by_index(inliers,invert=True)\n",
    "o3d.visualization.draw_geometries([inlier_cloud,outlier_cloud],\n",
    "                                  zoom=0.8,\n",
    "                                  front=[-0.4999, -0.1659, -0.8499],\n",
    "                                  lookat=[2.1813, 2.0619, 2.0999],\n",
    "                                  up=[0.1204, -0.9852, 0.1215])"
   ],
   "id": "4c5ca380241101ee",
   "outputs": [
    {
     "name": "stdout",
     "output_type": "stream",
     "text": [
      "[Open3D WARNING] geometry::TriangleMesh appears to be a geometry::PointCloud (only contains vertices, but no triangles).\n",
      "Plane equation: -0.00x + 1.00y + 0.02z + -2.43 = 0\n"
     ]
    }
   ],
   "execution_count": 14
  },
  {
   "metadata": {
    "ExecuteTime": {
     "end_time": "2025-01-11T01:47:57.569172Z",
     "start_time": "2025-01-11T01:47:55.253134Z"
    }
   },
   "cell_type": "code",
   "source": [
    "# 隐藏点去除算法\n",
    "mesh=o3d.io.read_triangle_mesh(\"ArmadilloMesh.ply\")\n",
    "mesh.compute_vertex_normals()\n",
    "\n",
    "pcd=mesh.sample_points_poisson_disk(number_of_points=5000)\n",
    "diameter=np.linalg.norm(np.asarray(pcd.get_max_bound())-np.asarray(pcd.get_min_bound()))\n",
    "o3d.visualization.draw_geometries([pcd])"
   ],
   "id": "976f35e98e335493",
   "outputs": [],
   "execution_count": 16
  },
  {
   "metadata": {
    "ExecuteTime": {
     "end_time": "2025-01-11T01:51:21.355669Z",
     "start_time": "2025-01-11T01:50:57.253471Z"
    }
   },
   "cell_type": "code",
   "source": [
    "print(\"Define parameters used for hidden_point_removal\")\n",
    "camera = [0, 0, diameter]\n",
    "radius = diameter * 100\n",
    "\n",
    "print(\"Get all points that are visible from given view point\")\n",
    "_, pt_map = pcd.hidden_point_removal(camera, radius)\n",
    "\n",
    "print(\"Visualize result\")\n",
    "pcd = pcd.select_by_index(pt_map)\n",
    "o3d.visualization.draw_geometries([pcd])"
   ],
   "id": "c33fdadc833cac05",
   "outputs": [
    {
     "name": "stdout",
     "output_type": "stream",
     "text": [
      "Define parameters used for hidden_point_removal\n",
      "Get all points that are visible from given view point\n",
      "Visualize result\n"
     ]
    }
   ],
   "execution_count": 17
  },
  {
   "metadata": {
    "ExecuteTime": {
     "end_time": "2025-01-11T02:23:33.517606Z",
     "start_time": "2025-01-11T02:23:26.819415Z"
    }
   },
   "cell_type": "code",
   "source": [
    "# 从点云构建KDTree\n",
    "pcd=o3d.io.read_point_cloud(\"fragment.ply\")\n",
    "pcd.paint_uniform_color([0.5,0.5,0.5])\n",
    "pcd_tree=o3d.geometry.KDTreeFlann(pcd)\n",
    "\n",
    "# 寻找相邻的点\n",
    "print(\"Paint the 1501st point red.\")\n",
    "pcd.colors[1500] = [1, 0, 0]\n",
    "\n",
    "print(\"Find its 200 nearest neighbors, and paint them blue.\")\n",
    "[k, idx, _] = pcd_tree.search_knn_vector_3d(pcd.points[1500], 200)\n",
    "np.asarray(pcd.colors)[idx[1:], :] = [0, 0, 1]\n",
    "\n",
    "print(\"Visualize the point cloud.\")\n",
    "o3d.visualization.draw_geometries([pcd],\n",
    "                                  zoom=0.5599,\n",
    "                                  front=[-0.4958, 0.8229, 0.2773],\n",
    "                                  lookat=[2.1126, 1.0163, -1.8543],\n",
    "                                  up=[0.1007, -0.2626, 0.9596])"
   ],
   "id": "542d7dabcec0ef15",
   "outputs": [
    {
     "name": "stdout",
     "output_type": "stream",
     "text": [
      "Paint the 1501st point red.\n",
      "Find its 200 nearest neighbors, and paint them blue.\n",
      "Visualize the point cloud.\n"
     ]
    }
   ],
   "execution_count": 20
  }
 ],
 "metadata": {
  "kernelspec": {
   "display_name": "Python 3",
   "language": "python",
   "name": "python3"
  },
  "language_info": {
   "codemirror_mode": {
    "name": "ipython",
    "version": 2
   },
   "file_extension": ".py",
   "mimetype": "text/x-python",
   "name": "python",
   "nbconvert_exporter": "python",
   "pygments_lexer": "ipython2",
   "version": "2.7.6"
  }
 },
 "nbformat": 4,
 "nbformat_minor": 5
}
